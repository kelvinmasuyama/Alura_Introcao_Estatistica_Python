{
 "cells": [
  {
   "cell_type": "markdown",
   "id": "e4f86e2d",
   "metadata": {},
   "source": [
    "#  Introdução a estatística \n",
    "\n",
    "    Nesse curso, contemplamos os primeros tópicos em estatística utilizando a ferramenta Python, passando por tópicos como:\n",
    " \n",
    "     - Distribuição de frequência;\n",
    "     - Medidas de tendência central;\n",
    "     - Medidas separatrizes;\n",
    "     - Medidas de dispersão.\n",
    " \n",
    " ## Dataset \n",
    "\n",
    "     Micro dados fornecido da Pesquisa Nacional por Amostra de Domicílios (PNAD 2015) utilizados do Instituto Brasileiro de Geografia e Estatísica (IBGE), utilizando as seguintes variáveis:\n",
    "     \n",
    "     - Renda;\n",
    "     - Idade;\n",
    "     - Altura (Elaboração do curso ALura);\n",
    "     - Estados;\n",
    "     - Sexo;\n",
    "     - Anos de estudo;\n",
    "     - Raça declarada.\n",
    "     \n",
    "Observações: \n",
    "   \n",
    "   Foram tratados os dados para rendas inválidas e missing, \n",
    "    \n",
    "\n"
   ]
  },
  {
   "cell_type": "markdown",
   "id": "ef1613a4",
   "metadata": {},
   "source": [
    "## Preparação do ambiente\n",
    "\n",
    "Importando dataset e pacotes que serão utilizados \n"
   ]
  },
  {
   "cell_type": "code",
   "execution_count": 1,
   "id": "40bbd098",
   "metadata": {},
   "outputs": [],
   "source": [
    "import pandas as pd\n",
    "import numpy as np"
   ]
  },
  {
   "cell_type": "code",
   "execution_count": 5,
   "id": "a2708cad",
   "metadata": {},
   "outputs": [],
   "source": [
    "dados_pessoas = pd.read_csv('dados/dados.csv', sep = ',')"
   ]
  },
  {
   "cell_type": "code",
   "execution_count": 7,
   "id": "71020ce8",
   "metadata": {},
   "outputs": [
    {
     "data": {
      "text/html": [
       "<div>\n",
       "<style scoped>\n",
       "    .dataframe tbody tr th:only-of-type {\n",
       "        vertical-align: middle;\n",
       "    }\n",
       "\n",
       "    .dataframe tbody tr th {\n",
       "        vertical-align: top;\n",
       "    }\n",
       "\n",
       "    .dataframe thead th {\n",
       "        text-align: right;\n",
       "    }\n",
       "</style>\n",
       "<table border=\"1\" class=\"dataframe\">\n",
       "  <thead>\n",
       "    <tr style=\"text-align: right;\">\n",
       "      <th></th>\n",
       "      <th>UF</th>\n",
       "      <th>Sexo</th>\n",
       "      <th>Idade</th>\n",
       "      <th>Cor</th>\n",
       "      <th>Anos de Estudo</th>\n",
       "      <th>Renda</th>\n",
       "      <th>Altura</th>\n",
       "    </tr>\n",
       "  </thead>\n",
       "  <tbody>\n",
       "    <tr>\n",
       "      <th>0</th>\n",
       "      <td>11</td>\n",
       "      <td>0</td>\n",
       "      <td>23</td>\n",
       "      <td>8</td>\n",
       "      <td>12</td>\n",
       "      <td>800</td>\n",
       "      <td>1.603808</td>\n",
       "    </tr>\n",
       "    <tr>\n",
       "      <th>1</th>\n",
       "      <td>11</td>\n",
       "      <td>1</td>\n",
       "      <td>23</td>\n",
       "      <td>2</td>\n",
       "      <td>12</td>\n",
       "      <td>1150</td>\n",
       "      <td>1.739790</td>\n",
       "    </tr>\n",
       "    <tr>\n",
       "      <th>2</th>\n",
       "      <td>11</td>\n",
       "      <td>1</td>\n",
       "      <td>35</td>\n",
       "      <td>8</td>\n",
       "      <td>15</td>\n",
       "      <td>880</td>\n",
       "      <td>1.760444</td>\n",
       "    </tr>\n",
       "    <tr>\n",
       "      <th>3</th>\n",
       "      <td>11</td>\n",
       "      <td>0</td>\n",
       "      <td>46</td>\n",
       "      <td>2</td>\n",
       "      <td>6</td>\n",
       "      <td>3500</td>\n",
       "      <td>1.783158</td>\n",
       "    </tr>\n",
       "    <tr>\n",
       "      <th>4</th>\n",
       "      <td>11</td>\n",
       "      <td>1</td>\n",
       "      <td>47</td>\n",
       "      <td>8</td>\n",
       "      <td>9</td>\n",
       "      <td>150</td>\n",
       "      <td>1.690631</td>\n",
       "    </tr>\n",
       "  </tbody>\n",
       "</table>\n",
       "</div>"
      ],
      "text/plain": [
       "   UF  Sexo  Idade  Cor  Anos de Estudo  Renda    Altura\n",
       "0  11     0     23    8              12    800  1.603808\n",
       "1  11     1     23    2              12   1150  1.739790\n",
       "2  11     1     35    8              15    880  1.760444\n",
       "3  11     0     46    2               6   3500  1.783158\n",
       "4  11     1     47    8               9    150  1.690631"
      ]
     },
     "execution_count": 7,
     "metadata": {},
     "output_type": "execute_result"
    }
   ],
   "source": [
    "### Vizualização de dados do dataset ###\n",
    "\n",
    "dados_pessoas.head()"
   ]
  },
  {
   "cell_type": "markdown",
   "id": "e3d46758",
   "metadata": {},
   "source": [
    "## Tipos de dados"
   ]
  },
  {
   "cell_type": "markdown",
   "id": "18413fd3",
   "metadata": {},
   "source": [
    "#### Qualitativo Ordinal"
   ]
  },
  {
   "cell_type": "code",
   "execution_count": 6,
   "id": "144bd25c",
   "metadata": {},
   "outputs": [
    {
     "data": {
      "text/plain": [
       "array([12, 15,  6,  9, 14, 16, 10,  1,  5,  7,  3,  2,  4,  8, 11, 17, 13],\n",
       "      dtype=int64)"
      ]
     },
     "execution_count": 6,
     "metadata": {},
     "output_type": "execute_result"
    }
   ],
   "source": [
    "dados_pessoas['Anos de Estudo'].unique()"
   ]
  },
  {
   "cell_type": "code",
   "execution_count": 7,
   "id": "d538e306",
   "metadata": {},
   "outputs": [
    {
     "data": {
      "text/plain": [
       "[1, 2, 3, 4, 5, 6, 7, 8, 9, 10, 11, 12, 13, 14, 15, 16, 17]"
      ]
     },
     "execution_count": 7,
     "metadata": {},
     "output_type": "execute_result"
    }
   ],
   "source": [
    "sorted(dados_pessoas['Anos de Estudo'].unique())"
   ]
  },
  {
   "cell_type": "markdown",
   "id": "32097e7c",
   "metadata": {},
   "source": [
    "#### Qualitativas Nominais"
   ]
  },
  {
   "cell_type": "code",
   "execution_count": 10,
   "id": "94e05a00",
   "metadata": {},
   "outputs": [
    {
     "data": {
      "text/plain": [
       "[11,\n",
       " 12,\n",
       " 13,\n",
       " 14,\n",
       " 15,\n",
       " 16,\n",
       " 17,\n",
       " 21,\n",
       " 22,\n",
       " 23,\n",
       " 24,\n",
       " 25,\n",
       " 26,\n",
       " 27,\n",
       " 28,\n",
       " 29,\n",
       " 31,\n",
       " 32,\n",
       " 33,\n",
       " 35,\n",
       " 41,\n",
       " 42,\n",
       " 43,\n",
       " 50,\n",
       " 51,\n",
       " 52,\n",
       " 53]"
      ]
     },
     "execution_count": 10,
     "metadata": {},
     "output_type": "execute_result"
    }
   ],
   "source": [
    "sorted(dados_pessoas['UF'].unique())"
   ]
  },
  {
   "cell_type": "code",
   "execution_count": 11,
   "id": "e80ffa11",
   "metadata": {},
   "outputs": [
    {
     "data": {
      "text/plain": [
       "[0, 1]"
      ]
     },
     "execution_count": 11,
     "metadata": {},
     "output_type": "execute_result"
    }
   ],
   "source": [
    "sorted(dados_pessoas['Sexo'].unique())"
   ]
  },
  {
   "cell_type": "code",
   "execution_count": 12,
   "id": "49186122",
   "metadata": {},
   "outputs": [
    {
     "data": {
      "text/plain": [
       "[0, 2, 4, 6, 8]"
      ]
     },
     "execution_count": 12,
     "metadata": {},
     "output_type": "execute_result"
    }
   ],
   "source": [
    "sorted(dados_pessoas['Cor'].unique())"
   ]
  },
  {
   "cell_type": "markdown",
   "id": "77f50d39",
   "metadata": {},
   "source": [
    "#### Quantitativa Discreta"
   ]
  },
  {
   "cell_type": "code",
   "execution_count": 15,
   "id": "d08949c9",
   "metadata": {},
   "outputs": [
    {
     "data": {
      "text/plain": [
       "13"
      ]
     },
     "execution_count": 15,
     "metadata": {},
     "output_type": "execute_result"
    }
   ],
   "source": [
    "dados_pessoas.Idade.min()"
   ]
  },
  {
   "cell_type": "code",
   "execution_count": 16,
   "id": "b1ab8e8f",
   "metadata": {},
   "outputs": [
    {
     "data": {
      "text/plain": [
       "99"
      ]
     },
     "execution_count": 16,
     "metadata": {},
     "output_type": "execute_result"
    }
   ],
   "source": [
    "dados_pessoas.Idade.max()"
   ]
  },
  {
   "cell_type": "code",
   "execution_count": 18,
   "id": "01a78021",
   "metadata": {},
   "outputs": [
    {
     "name": "stdout",
     "output_type": "stream",
     "text": [
      " De 13 até 99\n"
     ]
    }
   ],
   "source": [
    "print(f' De {dados_pessoas.Idade.min()} até {dados_pessoas.Idade.max()}')"
   ]
  },
  {
   "cell_type": "markdown",
   "id": "fe417f86",
   "metadata": {},
   "source": [
    "#### Quantitativas Contínuas"
   ]
  },
  {
   "cell_type": "code",
   "execution_count": 28,
   "id": "14ec26fd",
   "metadata": {},
   "outputs": [
    {
     "name": "stdout",
     "output_type": "stream",
     "text": [
      " De 1.339244614 até 2.028496765\n"
     ]
    }
   ],
   "source": [
    "print(f' De {dados_pessoas.Altura.min()} até {dados_pessoas.Altura.max()}')"
   ]
  },
  {
   "cell_type": "code",
   "execution_count": null,
   "id": "f7ef41ed",
   "metadata": {},
   "outputs": [],
   "source": []
  }
 ],
 "metadata": {
  "kernelspec": {
   "display_name": "Python 3 (ipykernel)",
   "language": "python",
   "name": "python3"
  },
  "language_info": {
   "codemirror_mode": {
    "name": "ipython",
    "version": 3
   },
   "file_extension": ".py",
   "mimetype": "text/x-python",
   "name": "python",
   "nbconvert_exporter": "python",
   "pygments_lexer": "ipython3",
   "version": "3.8.8"
  }
 },
 "nbformat": 4,
 "nbformat_minor": 5
}
